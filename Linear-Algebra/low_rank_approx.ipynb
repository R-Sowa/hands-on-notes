{
 "cells": [
  {
   "cell_type": "code",
   "execution_count": null,
   "id": "86dd68c2",
   "metadata": {},
   "outputs": [],
   "source": [
    "# ==========================\n",
    "# 必要ライブラリのインストール\n",
    "# ==========================\n",
    "!pip -q install scikit-image"
   ]
  },
  {
   "cell_type": "code",
   "execution_count": null,
   "id": "54a321a1",
   "metadata": {},
   "outputs": [],
   "source": [
    "# ==========================\n",
    "# ライブラリ読み込み\n",
    "# ==========================\n",
    "import numpy as np\n",
    "import matplotlib.pyplot as plt\n",
    "from skimage import data, img_as_float\n",
    "from skimage.color import rgb2gray\n",
    "\n",
    "# ノートブック用スタイル\n",
    "plt.rcParams[\"figure.figsize\"] = (12, 8)"
   ]
  },
  {
   "cell_type": "code",
   "execution_count": null,
   "id": "34eeec7e",
   "metadata": {},
   "outputs": [],
   "source": [
    "# ======================================\n",
    "# 1. 画像読み込み\n",
    "# ======================================\n",
    "img_rgb = img_as_float(data.astronaut())    # RGB, 値域 0–1\n",
    "img_gray = rgb2gray(img_rgb)               # グレースケールに変換\n",
    "h, w = img_gray.shape\n",
    "\n",
    "print(f\"画像サイズ: {h}×{w}  （総画素 {h*w:,}）\")\n",
    "plt.imshow(img_gray, cmap=\"gray\")\n",
    "plt.title(\"Original (Grayscale)\")\n",
    "plt.axis(\"off\")"
   ]
  },
  {
   "cell_type": "code",
   "execution_count": null,
   "id": "9af65975",
   "metadata": {},
   "outputs": [],
   "source": [
    "# ======================================\n",
    "# 2. SVD → 低ランク近似を返す関数\n",
    "# ======================================\n",
    "def svd_low_rank(img: np.ndarray, k: int) -> np.ndarray:\n",
    "    \"\"\"\n",
    "    img : 2D (float) 画像\n",
    "    k   : 残すランク\n",
    "    戻り値: rank-k 近似画像\n",
    "    \"\"\"\n",
    "    U, s, Vt = np.linalg.svd(img, full_matrices=False)\n",
    "    S_k = np.diag(s[:k])\n",
    "    img_k = U[:, :k] @ S_k @ Vt[:k, :]\n",
    "    return np.clip(img_k, 0, 1)            # 範囲を 0–1 に戻しておく"
   ]
  },
  {
   "cell_type": "code",
   "execution_count": null,
   "id": "ec2be79b",
   "metadata": {},
   "outputs": [],
   "source": [
    "# ======================================\n",
    "# 3. 複数の k で可視化\n",
    "# ======================================\n",
    "ks = [5, 20, 50, 100, 200]     # 試したいランク\n",
    "ncols = len(ks) + 1            # ＋オリジナル\n",
    "\n",
    "fig, axes = plt.subplots(1, ncols, figsize=(3*ncols, 3))\n",
    "axes[0].imshow(img_gray, cmap=\"gray\")\n",
    "axes[0].set_title(\"Original\")\n",
    "axes[0].axis(\"off\")\n",
    "\n",
    "for ax, k in zip(axes[1:], ks):\n",
    "    img_k = svd_low_rank(img_gray, k)\n",
    "    ax.imshow(img_k, cmap=\"gray\")\n",
    "    ax.set_title(f\"rank = {k}\")\n",
    "    ax.axis(\"off\")\n",
    "\n",
    "fig.suptitle(\"Low-Rank Approximations (Grayscale)\", fontsize=16)\n",
    "plt.tight_layout()\n",
    "plt.show()"
   ]
  },
  {
   "cell_type": "code",
   "execution_count": null,
   "id": "fd5f94fd",
   "metadata": {},
   "outputs": [],
   "source": [
    "# ======================================\n",
    "# 4. 画質 vs. 圧縮比の簡易評価\n",
    "#    （PSNR = Peak Signal‑to‑Noise Ratio）\n",
    "# ======================================\n",
    "from skimage.metrics import peak_signal_noise_ratio as psnr\n",
    "\n",
    "orig_size   = img_gray.size        # ピクセル数\n",
    "print(\"k\\t保存パラメータ数\\t圧縮率\\tPSNR[dB]\")\n",
    "for k in ks:\n",
    "    params = k*(h + w + 1)         # U: hk, V: wk, s: k\n",
    "    rate   = params / orig_size\n",
    "    img_k  = svd_low_rank(img_gray, k)\n",
    "    psnr_k = psnr(img_gray, img_k, data_range=1)\n",
    "    print(f\"{k:>3}\\t{params:>12,}\\t{rate:6.2%}\\t{psnr_k:6.2f}\")"
   ]
  }
 ],
 "metadata": {
  "language_info": {
   "name": "python"
  }
 },
 "nbformat": 4,
 "nbformat_minor": 5
}
