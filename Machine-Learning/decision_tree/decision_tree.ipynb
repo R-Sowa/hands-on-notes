{
 "cells": [
  {
   "cell_type": "code",
   "execution_count": null,
   "id": "44a3b811",
   "metadata": {},
   "outputs": [],
   "source": [
    "## 必要なライブラリのインポート\n",
    "import numpy as np\n",
    "from decision_tree import MyDecisionTreeClassifier\n",
    "\n",
    "import matplotlib.pyplot as plt\n",
    "from sklearn import datasets\n",
    "from sklearn.model_selection import train_test_split\n",
    "from sklearn.metrics import accuracy_score, confusion_matrix\n",
    "from sklearn.decomposition import PCA\n",
    "from sklearn.tree import DecisionTreeClassifier as SkDT\n",
    "\n",
    "np.random.seed(42)"
   ]
  },
  {
   "cell_type": "code",
   "execution_count": null,
   "id": "343215d4",
   "metadata": {},
   "outputs": [
    {
     "ename": "",
     "evalue": "",
     "output_type": "error",
     "traceback": [
      "\u001b[1;31m'3.10.9 (Python 3.10.9)' でセルを実行するには、 ipykernel パッケージが必要です。\n",
      "\u001b[1;31m<a href='command:jupyter.createPythonEnvAndSelectController'>Python 環境の作成</a> および必要なパッケージ。\n",
      "\u001b[1;31mまたは、次のコマンドを使用して 'ipykernel' をインストールします: '/Users/sowa/.pyenv/versions/3.10.9/bin/python -m pip install ipykernel -U --force-reinstall'"
     ]
    }
   ],
   "source": [
    "cancer = datasets.load_breast_cancer()\n",
    "X = cancer.data\n",
    "y = cancer.target\n",
    "\n",
    "X_train, X_test, y_train, y_test = train_test_split(X, y, test_size=0.2, random_state=42, stratify=y)\n",
    "\n",
    "print(f\"train: {X_train.shape}, test: {X_test.shape}\")"
   ]
  },
  {
   "cell_type": "code",
   "execution_count": null,
   "id": "c8f1aa07",
   "metadata": {},
   "outputs": [],
   "source": [
    "## 自作決定木の学習と予測\n",
    "\n",
    "my_tree = MyDecisionTreeClassifier(max_depth=3, min_samples_split=2)\n",
    "my_tree.fit(X_train, y_train)\n",
    "\n",
    "y_pred = my_tree.predict(X_test)\n",
    "print(f\"My Decision Tree accuracy: {accuracy_score(y_test, y_pred):.4f}\")\n",
    "print(\"Confusion Matrix:\\n\", confusion_matrix(y_test, y_pred))"
   ]
  },
  {
   "cell_type": "code",
   "execution_count": null,
   "id": "a795bba4",
   "metadata": {},
   "outputs": [],
   "source": [
    "from sklearn.preprocessing import StandardScaler\n",
    "scaler = StandardScaler()\n",
    "X_train_scaled = scaler.fit_transform(X_train)\n",
    "\n",
    "## 2次元射影で決定境界を可視化\n",
    "pca = PCA(n_components=2)\n",
    "X2d = pca.fit_transform(X_train_scaled)\n",
    "\n",
    "# メッシュ作成\n",
    "x_min, x_max = X2d[:, 0].min() - 1, X2d[:, 0].max() + 1\n",
    "y_min, y_max = X2d[:, 1].min() - 1, X2d[:, 1].max() + 1\n",
    "xx, yy = np.meshgrid(\n",
    "    np.linspace(x_min, x_max, 200),\n",
    "    np.linspace(y_min, y_max, 200)\n",
    ")\n",
    "\n",
    "# メッシュ点を元の特徴量空間に逆変換して予測\n",
    "mesh_scaled      = pca.inverse_transform(np.c_[xx.ravel(), yy.ravel()])\n",
    "mesh_original    = scaler.inverse_transform(mesh_scaled)\n",
    "Z = my_tree.predict(mesh_original).reshape(xx.shape)\n",
    "\n",
    "plt.figure(figsize=(10, 6))\n",
    "plt.contourf(xx, yy, Z, alpha=0.3, cmap=plt.cm.coolwarm)\n",
    "plt.scatter(X2d[:, 0], X2d[:, 1],\n",
    "            c=y_train, edgecolor='k', s=50, cmap=plt.cm.coolwarm)\n",
    "plt.title(\"Decision Boundary of My Decision Tree\")\n",
    "plt.xlabel(\"PCA Component 1\")\n",
    "plt.ylabel(\"PCA Component 2\")\n",
    "plt.show()"
   ]
  },
  {
   "cell_type": "code",
   "execution_count": null,
   "id": "c81d2bbd",
   "metadata": {},
   "outputs": [],
   "source": [
    "# Scikit-learnの決定木と比較\n",
    "sk_tree = SkDT(max_depth=3, min_samples_split=2, random_state=42)\n",
    "sk_tree.fit(X_train, y_train)\n",
    "\n",
    "sk_pred = sk_tree.predict(X_test)\n",
    "print(f\"Scikit-learn Decision Tree accuracy: {accuracy_score(y_test, sk_pred):.4f}\")\n",
    "print(\"Confusion Matrix:\\n\", confusion_matrix(y_test, sk_pred))"
   ]
  },
  {
   "cell_type": "code",
   "execution_count": null,
   "id": "e89f11de",
   "metadata": {},
   "outputs": [],
   "source": [
    "# ハイパーパラメータ実験: max_depthを変化させた精度曲線\n",
    "\n",
    "# %% \n",
    "train_scores, test_scores = [], []\n",
    "\n",
    "for depth in range(1, 8):\n",
    "    model = MyDecisionTreeClassifier(max_depth=depth, min_samples_split=2)\n",
    "    model.fit(X_train, y_train)\n",
    "    train_scores.append(accuracy_score(y_train, model.predict(X_train)))\n",
    "    test_scores.append(accuracy_score(y_test, model.predict(X_test)))\n",
    "\n",
    "plt.figure(figsize=(10, 6))\n",
    "plt.plot(range(1, 8), train_scores, label='Train Accuracy', marker='o')\n",
    "plt.plot(range(1, 8), test_scores, label='Test Accuracy', marker='s')\n",
    "plt.title(\"Decision Tree Accuracy vs Max Depth\")\n",
    "plt.xlabel(\"Max Depth\")\n",
    "plt.ylabel(\"Accuracy\")\n",
    "plt.xticks(range(1, 8))\n",
    "plt.legend()\n",
    "plt.show()"
   ]
  }
 ],
 "metadata": {
  "kernelspec": {
   "display_name": "3.10.9",
   "language": "python",
   "name": "python3"
  },
  "language_info": {
   "name": "python",
   "version": "3.10.9"
  }
 },
 "nbformat": 4,
 "nbformat_minor": 5
}
